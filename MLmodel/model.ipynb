{
 "cells": [
  {
   "cell_type": "code",
   "execution_count": 1,
   "metadata": {},
   "outputs": [
    {
     "name": "stderr",
     "output_type": "stream",
     "text": [
      "m:\\Third Year\\Sixth Semester\\Projects\\NLP-Project\\env\\Lib\\site-packages\\tqdm\\auto.py:21: TqdmWarning: IProgress not found. Please update jupyter and ipywidgets. See https://ipywidgets.readthedocs.io/en/stable/user_install.html\n",
      "  from .autonotebook import tqdm as notebook_tqdm\n"
     ]
    }
   ],
   "source": [
    "from transformers import AutoTokenizer, AutoModel\n",
    "import torch\n",
    "import torch.nn.functional as F"
   ]
  },
  {
   "cell_type": "code",
   "execution_count": 3,
   "metadata": {},
   "outputs": [],
   "source": [
    "import faiss \n",
    "import numpy as np\n",
    "import pickle"
   ]
  },
  {
   "cell_type": "code",
   "execution_count": 4,
   "metadata": {},
   "outputs": [],
   "source": [
    "import os\n",
    "os.environ['KMP_DUPLICATE_LIB_OK']='True'"
   ]
  },
  {
   "cell_type": "code",
   "execution_count": 5,
   "metadata": {},
   "outputs": [],
   "source": [
    "class semanticEmbedding:\n",
    "    def __init__(self, model_name='sentence-transformers/all-mpnet-base-v2'):\n",
    "        self.tokenizer = AutoTokenizer.from_pretrained(model_name)\n",
    "        self.model = AutoModel.from_pretrained(model_name)\n",
    "\n",
    "    def mean_pooling(self, model_output, attention_mask):\n",
    "        token_embeddings = model_output[0] #First element of model_output contains all token embeddings\n",
    "        input_mask_expanded = attention_mask.unsqueeze(-1).expand(token_embeddings.size()).float()\n",
    "        return torch.sum(token_embeddings * input_mask_expanded, 1) / torch.clamp(input_mask_expanded.sum(1), min=1e-9)\n",
    "    def get_embedding(self, sentences):\n",
    "    # Tokenize sentences\n",
    "        encoded_input = self.tokenizer(sentences, padding=True, truncation=True, return_tensors='pt')\n",
    "        with torch.no_grad():\n",
    "            model_output = self.model(**encoded_input)\n",
    "        # Perform pooling\n",
    "        sentence_embeddings = self.mean_pooling(model_output, encoded_input['attention_mask'])\n",
    "\n",
    "        # Normalize embeddings\n",
    "        sentence_embeddings = F.normalize(sentence_embeddings, p=2, dim=1)\n",
    "        return sentence_embeddings.detach().numpy()"
   ]
  },
  {
   "cell_type": "code",
   "execution_count": 6,
   "metadata": {},
   "outputs": [],
   "source": [
    "class FaissIdx:\n",
    "\n",
    "    def __init__(self, model, dim=768):\n",
    "        self.index = faiss.IndexFlatIP(dim) # need to load the pickle model in the final file\n",
    "        # self.index = faiss\n",
    "        # Maintaining the document data\n",
    "        self.doc_map = dict()\n",
    "        self.model = model\n",
    "        self.ctr = 0\n",
    "\n",
    "    def add_doc(self, document_text):\n",
    "        self.index.add(self.model.get_embedding(document_text))\n",
    "        self.doc_map[self.ctr] = document_text # store the original document text\n",
    "        self.ctr += 1\n",
    "\n",
    "    def search_doc(self, query, k=3):\n",
    "        D, I = self.index.search(self.model.get_embedding(query), 5)\n",
    "        return [{self.doc_map[idx]: score} for idx, score in zip(I[0], D[0]) if idx in self.doc_map]\n",
    "    def save_index(self, index_filename, doc_map_filename):\n",
    "        # Save Faiss index to file\n",
    "        faiss.write_index(self.index, index_filename)\n",
    "\n",
    "        # Save document map to file using pickle\n",
    "        with open(doc_map_filename, 'wb') as f:\n",
    "            pickle.dump(self.doc_map, f)\n",
    "\n",
    "    def load_index(self, index_filename, doc_map_filename):\n",
    "        # Load Faiss index from file\n",
    "        self.index = faiss.read_index(index_filename)\n",
    "\n",
    "        # Load document map from file using pickle\n",
    "        with open(doc_map_filename, 'rb') as f:\n",
    "            self.doc_map = pickle.load(f)"
   ]
  },
  {
   "cell_type": "code",
   "execution_count": 7,
   "metadata": {},
   "outputs": [],
   "source": [
    "# creating an instance of the class\n",
    "model = semanticEmbedding()"
   ]
  },
  {
   "cell_type": "code",
   "execution_count": 8,
   "metadata": {},
   "outputs": [],
   "source": [
    "index = FaissIdx(model)"
   ]
  },
  {
   "cell_type": "code",
   "execution_count": 9,
   "metadata": {},
   "outputs": [],
   "source": [
    "index.load_index('index.bin', 'doc_map.pkl')"
   ]
  },
  {
   "cell_type": "code",
   "execution_count": 10,
   "metadata": {},
   "outputs": [],
   "source": [
    "import google.generativeai as genai"
   ]
  },
  {
   "cell_type": "code",
   "execution_count": 11,
   "metadata": {},
   "outputs": [],
   "source": [
    "genai.configure(api_key=os.environ.get('GOOGLE_API_KEY'))"
   ]
  },
  {
   "cell_type": "code",
   "execution_count": 12,
   "metadata": {},
   "outputs": [],
   "source": [
    "model = genai.GenerativeModel('gemini-pro')"
   ]
  },
  {
   "cell_type": "markdown",
   "metadata": {},
   "source": [
    "# given the query, run the following code sequentially"
   ]
  },
  {
   "cell_type": "code",
   "execution_count": 13,
   "metadata": {},
   "outputs": [],
   "source": [
    "query = \"I want to help poor\""
   ]
  },
  {
   "cell_type": "code",
   "execution_count": 14,
   "metadata": {},
   "outputs": [],
   "source": [
    "user_name = 'Amar'"
   ]
  },
  {
   "cell_type": "code",
   "execution_count": 15,
   "metadata": {},
   "outputs": [],
   "source": [
    "website = 'https://www.india.gov.in/my-government/schemes'"
   ]
  },
  {
   "cell_type": "code",
   "execution_count": 16,
   "metadata": {},
   "outputs": [],
   "source": [
    "query_result = index.search_doc(query)"
   ]
  },
  {
   "cell_type": "code",
   "execution_count": 17,
   "metadata": {},
   "outputs": [],
   "source": [
    "context = ''"
   ]
  },
  {
   "cell_type": "code",
   "execution_count": 18,
   "metadata": {},
   "outputs": [],
   "source": [
    "for i in range(5):\n",
    "    for key, value in query_result[i].items():\n",
    "        if(value>0.23):\n",
    "            context += key"
   ]
  },
  {
   "cell_type": "code",
   "execution_count": 19,
   "metadata": {},
   "outputs": [
    {
     "data": {
      "text/plain": [
       "'Dr. B.R. Ambedkar Awas Navinikarn Yojna, Haryana = The main purpose of this scheme is to provide grant for the repair of house to all families living under below poverty line, whose house needs repair.Schemes for welfare of backward classes by Ministry of Social Justice and Empowerment = Information about schemes and programmes for the welfare of backward classes by Ministry of Social Justice and Empowerment. Information about pre-matric and post-matric scholarships, centrally sponsored schemes of construction of hostels, assistance to voluntary organisations working for welfare of OBCs, etc are available. Information on National Backward Classes Finance and Development Corporation (NBCFDC), state-wise and scheme-wise expenditure under the pre-Matric and post-Matric and hostels for OBCs and contact details of concerned officers for queries can also be obtained.General Grant-in-Aid Scheme in the field of Women and Child Development = The role of voluntary organizations and their participation in social welfare activities has been recognized by Government both as an important resource as well as to emphasis that social problems and social issues require active participation of the community, Government anti the voluntary organizations together have to shoulder responsibilities and functions depending on the types of activities each is best equipped to perform.Entrepreneurial Schemes of National Backward Classes Finance and Development = Get information on Entrepreneurial Schemes of NBCFDC (New Swarnima for Women_Saksham_Shilp Sampada_Micro Finance Scheme_Mahila Samriddhi Yojana_Krishi Sampada)National Safai Karamchris Finance & Development Corporation = NSKFDC works for socioeconomic upliftment of Safai Karamcharis, Manual Scavengers and their dependents across the country by providing loans at concessional rates of interest for any viable income generating activity and also skill development training to the target group for enhancing their capabilities for job/self employment. NSKFDC website acts as an interface to the public and provides information pertaining to its various loan based and non loan based schemes. Loan based Schemes financed by NSKFDC for the target group through the State Channelizing Agencies/Regional Rural Banks/...'"
      ]
     },
     "execution_count": 19,
     "metadata": {},
     "output_type": "execute_result"
    }
   ],
   "source": [
    "context"
   ]
  },
  {
   "cell_type": "code",
   "execution_count": 20,
   "metadata": {},
   "outputs": [],
   "source": [
    "content = \"\""
   ]
  },
  {
   "cell_type": "code",
   "execution_count": 21,
   "metadata": {},
   "outputs": [
    {
     "name": "stdout",
     "output_type": "stream",
     "text": [
      "Hello Amar,\n",
      "\n",
      "Thank you for reaching out! 🌟 Based on the information you provided, here are some government schemes that might be relevant to your situation:\n",
      "\n",
      "1. **Dr. B.R. Ambedkar Awas Navinikarn Yojna, Haryana:**\n",
      "   - **Eligibility:** Families living below poverty line with a house in need of repair.\n",
      "   - **Benefit:** Grant for house repair.\n",
      "\n",
      "2. **National Safai Karamcharis Finance & Development Corporation:**\n",
      "   - **Eligibility:** Safai Karamcharis, Manual Scavengers, and their dependents.\n",
      "   - **Benefit:** Loans at concessional rates of interest for income-generating activities and skill development training.\n",
      "\n",
      "3. **Entrepreneurial Schemes of National Backward Classes Finance and Development:**\n",
      "   - **Eligibility:** Individuals from backward classes.\n",
      "   - **Benefit:** Loans for starting or expanding businesses.\n",
      "\n",
      "4. **General Grant-in-Aid Scheme in the field of Women and Child Development:**\n",
      "   - **Eligibility:** Voluntary organizations working for the welfare of women and children.\n",
      "   - **Benefit:** Grants for projects and activities.\n",
      "\n",
      "5. **Schemes for welfare of backward classes by Ministry of Social Justice and Empowerment:**\n",
      "   - **Eligibility:** Individuals from backward classes.\n",
      "   - **Benefit:** Scholarships, hostel facilities, and other assistance.\n",
      "\n",
      "For more detailed information or to apply, you can visit the official [Government Department/Agency] website: https://www.india.gov.in/my-government/schemes.\n",
      "\n",
      "\n",
      "If you have any more questions or need further assistance, feel free to ask!\n",
      "\n",
      "Best regards,\n",
      "GovSevak.\n",
      "\n",
      "*This message is generated by GENAI, GENAI can make mistakes. Consider checking important information.*\n"
     ]
    }
   ],
   "source": [
    "if context == '':\n",
    "    print('Is there anything else I can help you with?')\n",
    "else:\n",
    "    formatted_response = f''' Give response in this format, dont change the format or the links given-: \n",
    "Hello {user_name},\n",
    "\n",
    "Thank you for reaching out! 🌟 Based on the information you provided, here are some government schemes that might be relevant to your situation:\n",
    "\n",
    "1. Scheme Name 1:\n",
    "   - Information like eligibility, benefit.\n",
    "\n",
    "2. Scheme Name 2:\n",
    "   - Information like eligibility, benefit.\n",
    "\n",
    "3. Scheme Name 3:\n",
    "   - Information like eligibility, benefit.\n",
    "\n",
    "4. Scheme Name 4:\n",
    "   - Information like eligibility, benefit.\n",
    "\n",
    "5. Scheme Name 5:\n",
    "   - Information like eligibility, benefit.\n",
    "\n",
    "\n",
    "For more detailed information or to apply, you can visit the official [Government Department/Agency] website: {website}.\n",
    "\n",
    "\n",
    "If you have any more questions or need further assistance, feel free to ask!\n",
    "\n",
    "Best regards,\n",
    "GovSevak.\n",
    "\n",
    "*This message is generated by GENAI, GENAI can make mistakes. Consider checking important information.*\n",
    "\n",
    "QUERY:${query}$ CONTEXT:${context}$'''\n",
    "\n",
    "    response = model.generate_content(formatted_response)\n",
    "    print(response.text)\n",
    "\n"
   ]
  },
  {
   "cell_type": "code",
   "execution_count": null,
   "metadata": {},
   "outputs": [],
   "source": []
  },
  {
   "cell_type": "code",
   "execution_count": null,
   "metadata": {},
   "outputs": [],
   "source": []
  }
 ],
 "metadata": {
  "kernelspec": {
   "display_name": "env",
   "language": "python",
   "name": "python3"
  },
  "language_info": {
   "codemirror_mode": {
    "name": "ipython",
    "version": 3
   },
   "file_extension": ".py",
   "mimetype": "text/x-python",
   "name": "python",
   "nbconvert_exporter": "python",
   "pygments_lexer": "ipython3",
   "version": "3.11.5"
  }
 },
 "nbformat": 4,
 "nbformat_minor": 2
}
